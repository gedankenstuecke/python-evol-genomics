{
 "cells": [
  {
   "cell_type": "code",
   "execution_count": null,
   "metadata": {
    "collapsed": false
   },
   "outputs": [],
   "source": [
    "from Bio import SeqIO\n",
    "\n",
    "aa_handle = SeqIO.parse(\"aligned_aa.fasta\",\"fasta\")\n",
    "aligned_aa = SeqIO.to_dict(aa_handle)\n",
    "\n",
    "cds_handle = SeqIO.parse(\"unaligned_cds.fasta\",\"fasta\")\n",
    "unaligned_cds = SeqIO.to_dict(cds_handle)\n",
    "                \n",
    "aligned_cds = {}\n",
    "\n",
    "for seq_name in aligned_aa:\n",
    "    prot_sequence = aligned_aa[seq_name].seq\n",
    "    unaligned_cds_seq = unaligned_cds[seq_name].seq\n",
    "    single_aligned_cds = \"\"\n",
    "    current_position = 0\n",
    "    for letter in prot_sequence:\n",
    "        if letter == \"-\":\n",
    "            single_aligned_cds += \"---\"\n",
    "        else:\n",
    "            codon = unaligned_cds_seq[current_position:current_position+3]\n",
    "            if codon.translate() == letter:\n",
    "                single_aligned_cds += codon\n",
    "                current_position += 3\n",
    "            else:\n",
    "                break\n",
    "    aligned_cds[seq_name] = single_aligned_cds\n",
    "\n",
    "for seq_id in aligned_cds:\n",
    "    print \">\" + seq_id\n",
    "    print aligned_cds[seq_id]\n",
    "\n",
    "\n"
   ]
  },
  {
   "cell_type": "code",
   "execution_count": 1,
   "metadata": {
    "collapsed": false
   },
   "outputs": [
    {
     "name": "stdout",
     "output_type": "stream",
     "text": [
      "GATCGATGGGCCTATATAGGATCGAAAATCGC\n",
      "CTAGCTACCCGGATATATCCTAGCTTTTAGCG\n",
      "GCGATTTTCGATCCTATATAGGCCCATCGATC\n"
     ]
    }
   ],
   "source": [
    "from Bio.Seq import Seq\n",
    "\n",
    "myseq = Seq(\"GATCGATGGGCCTATATAGGATCGAAAATCGC\")\n",
    "\n",
    "print myseq\n",
    "\n",
    "print myseq.complement()\n",
    "\n",
    "print myseq.reverse_complement()"
   ]
  },
  {
   "cell_type": "code",
   "execution_count": 2,
   "metadata": {
    "collapsed": false
   },
   "outputs": [
    {
     "name": "stdout",
     "output_type": "stream",
     "text": [
      "{'seqB': SeqRecord(seq=Seq('ATGAGCTGA', SingleLetterAlphabet()), id='seqB', name='seqB', description='seqB', dbxrefs=[]), 'seqA': SeqRecord(seq=Seq('ATGGCAGGCTGCTGA', SingleLetterAlphabet()), id='seqA', name='seqA', description='seqA', dbxrefs=[])}\n"
     ]
    }
   ],
   "source": [
    "from Bio import SeqIO\n",
    "\n",
    "sequences = SeqIO.to_dict(SeqIO.parse(\"unaligned_cds.fasta\",\"fasta\"))\n",
    "\n",
    "print sequences"
   ]
  },
  {
   "cell_type": "code",
   "execution_count": 3,
   "metadata": {
    "collapsed": true
   },
   "outputs": [],
   "source": [
    "x = 10"
   ]
  },
  {
   "cell_type": "code",
   "execution_count": 6,
   "metadata": {
    "collapsed": false
   },
   "outputs": [
    {
     "name": "stdout",
     "output_type": "stream",
     "text": [
      "25\n"
     ]
    }
   ],
   "source": [
    "print x"
   ]
  },
  {
   "cell_type": "code",
   "execution_count": 5,
   "metadata": {
    "collapsed": true
   },
   "outputs": [],
   "source": [
    "x = x + 15"
   ]
  },
  {
   "cell_type": "code",
   "execution_count": null,
   "metadata": {
    "collapsed": true
   },
   "outputs": [],
   "source": [
    "x = 10"
   ]
  }
 ],
 "metadata": {
  "kernelspec": {
   "display_name": "Python 2",
   "language": "python",
   "name": "python2"
  },
  "language_info": {
   "codemirror_mode": {
    "name": "ipython",
    "version": 2
   },
   "file_extension": ".py",
   "mimetype": "text/x-python",
   "name": "python",
   "nbconvert_exporter": "python",
   "pygments_lexer": "ipython2",
   "version": "2.7.12"
  }
 },
 "nbformat": 4,
 "nbformat_minor": 2
}
