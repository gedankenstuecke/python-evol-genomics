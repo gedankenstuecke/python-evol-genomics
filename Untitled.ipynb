{
 "cells": [
  {
   "cell_type": "code",
   "execution_count": 24,
   "metadata": {
    "collapsed": false
   },
   "outputs": [],
   "source": [
    "# load package to query data from NCBI \n",
    "from Bio import Entrez\n",
    "# required information: email, in case of abuse\n",
    "Entrez.email = \"bgreshake@gmail.com\""
   ]
  },
  {
   "cell_type": "code",
   "execution_count": 26,
   "metadata": {
    "collapsed": false
   },
   "outputs": [
    {
     "name": "stdout",
     "output_type": "stream",
     "text": [
      "{u'Count': '8', u'RetMax': '8', u'IdList': ['1179909122', '49035742', '820940909', '820940907', '443908653', '443908652', '70671408', '70671404'], u'TranslationStack': [{u'Count': '7541', u'Field': 'All Fields', u'Term': 'mat1[All Fields]', u'Explode': 'N'}, {u'Count': '60785', u'Field': 'Organism', u'Term': '\"Lecanoromycetes\"[Organism]', u'Explode': 'Y'}, 'AND'], u'TranslationSet': [{u'To': '\"Lecanoromycetes\"[Organism]', u'From': 'Lecanoromycetes[Organism]'}], u'RetStart': '0', u'QueryTranslation': 'mat1[All Fields] AND \"Lecanoromycetes\"[Organism]'}\n"
     ]
    }
   ],
   "source": [
    "# search in the NCBI nucleotide DB \n",
    "# for our earlier search term\n",
    "search = Entrez.esearch(db=\"nucleotide\",\n",
    "                        term=\"mat1 AND Lecanoromycetes[Organism]\")\n",
    "# read in the results delivered by NCBI\n",
    "search_results = Entrez.read(search)\n",
    "print search_results"
   ]
  },
  {
   "cell_type": "code",
   "execution_count": 29,
   "metadata": {
    "collapsed": false
   },
   "outputs": [
    {
     "name": "stdout",
     "output_type": "stream",
     "text": [
      "['1179909122', '49035742', '820940909', '820940907', '443908653', '443908652', '70671408', '70671404']\n"
     ]
    }
   ],
   "source": [
    "print search_results[\"IdList\"]"
   ]
  },
  {
   "cell_type": "code",
   "execution_count": 39,
   "metadata": {
    "collapsed": false
   },
   "outputs": [],
   "source": [
    "# get single identifier\n",
    "single_id = search_results[\"IdList\"][1]\n",
    "\n",
    "# download sequence as Genbank text\n",
    "# from NCBI\n",
    "single_record = Entrez.efetch(db=\"nucleotide\", # which DB?\n",
    "                            id=single_id, # which ID\n",
    "                            rettype=\"gb\", # which format\n",
    "                            retmode=\"text\") # text or XML?"
   ]
  },
  {
   "cell_type": "code",
   "execution_count": 40,
   "metadata": {
    "collapsed": false
   },
   "outputs": [],
   "source": [
    "sequence_file = single_record.read()"
   ]
  },
  {
   "cell_type": "code",
   "execution_count": 41,
   "metadata": {
    "collapsed": false
   },
   "outputs": [
    {
     "name": "stdout",
     "output_type": "stream",
     "text": [
      "LOCUS       AY634274                 272 bp    DNA     linear   PLN 26-JUL-2016\n",
      "DEFINITION  Cladonia galindezii mating-type protein MAT1-2 (MAT1-2) gene,\n",
      "            partial cds.\n",
      "ACCESSION   AY634274\n",
      "VERSION     AY634274.1\n",
      "KEYWORDS    .\n",
      "SOURCE      Cladonia galindezii\n",
      "  ORGANISM  Cladonia galindezii\n",
      "            Eukaryota; Fungi; Dikarya; Ascomycota; Pezizomycotina;\n",
      "            Lecanoromycetes; OSLEUM clade; Lecanoromycetidae; Lecanorales;\n",
      "            Lecanorineae; Cladoniaceae; Cladonia.\n",
      "REFERENCE   1  (bases 1 to 272)\n",
      "  AUTHORS   Seymour,F.A., Crittenden,P.D., Dickinson,M.J., Paoletti,M.,\n",
      "            Montiel,D., Cho,L. and Dyer,P.S.\n",
      "  TITLE     Breeding systems in the lichen-forming fungal genus Cladonia\n",
      "  JOURNAL   Fungal Genet. Biol. 42 (6), 554-563 (2005)\n",
      "   PUBMED   15893256\n",
      "REFERENCE   2  (bases 1 to 272)\n",
      "  AUTHORS   Paoletti,M., Seymour,F.A. and Dyer,P.S.\n",
      "  TITLE     Direct Submission\n",
      "  JOURNAL   Submitted (24-MAY-2004) Biology, University of Nottingham,\n",
      "            University Park, Nottingham NG7 2RD, UK\n",
      "FEATURES             Location/Qualifiers\n",
      "     source          1..272\n",
      "                     /organism=\"Cladonia galindezii\"\n",
      "                     /mol_type=\"genomic DNA\"\n",
      "                     /isolate=\"Cg-S1\"\n",
      "                     /specimen_voucher=\"IMI 391496; CABI Biosciences (UK)\"\n",
      "                     /db_xref=\"taxon:281782\"\n",
      "                     /country=\"Antarctica: Leonie Island\"\n",
      "     gene            <1..>272\n",
      "                     /gene=\"MAT1-2\"\n",
      "     mRNA            join(<1..97,147..>272)\n",
      "                     /gene=\"MAT1-2\"\n",
      "                     /product=\"mating-type protein MAT1-2\"\n",
      "     CDS             join(<1..97,147..>272)\n",
      "                     /gene=\"MAT1-2\"\n",
      "                     /note=\"high-mobility group fungal mating-tyge\n",
      "                     transcription factor protein\"\n",
      "                     /codon_start=1\n",
      "                     /product=\"mating-type protein MAT1-2\"\n",
      "                     /protein_id=\"AAT48651.1\"\n",
      "                     /translation=\"KVPRPPNAFILYRQAFHPLLKAENPNLHNNQISVELGLKWKNED\n",
      "                     PRVKEYYILKAKQIKSQHLLQHPDYHYTPR\"\n",
      "ORIGIN      \n",
      "        1 aaggtgccgc ggccgccgaa cgccttcata ctctaccgcc aggcctttca cccacttctc\n",
      "       61 aaagctgaaa accccaatct tcacaacaat cagatctgta agtcttttca gcctctttcg\n",
      "      121 cgtgacttcg cataactgtt tggcagcggt tgaacttggc ttgaagtgga agaacgaaga\n",
      "      181 cccacgtgtg aaagaatact acatcctcaa ggccaagcaa atcaagtccc agcacttgct\n",
      "      241 tcagcatcct gactaccact ataccccccg ca\n",
      "//\n",
      "\n",
      "\n"
     ]
    }
   ],
   "source": [
    "print sequence_file"
   ]
  },
  {
   "cell_type": "code",
   "execution_count": null,
   "metadata": {
    "collapsed": true
   },
   "outputs": [],
   "source": []
  }
 ],
 "metadata": {
  "kernelspec": {
   "display_name": "Python 2",
   "language": "python",
   "name": "python2"
  },
  "language_info": {
   "codemirror_mode": {
    "name": "ipython",
    "version": 2
   },
   "file_extension": ".py",
   "mimetype": "text/x-python",
   "name": "python",
   "nbconvert_exporter": "python",
   "pygments_lexer": "ipython2",
   "version": "2.7.12"
  }
 },
 "nbformat": 4,
 "nbformat_minor": 2
}
